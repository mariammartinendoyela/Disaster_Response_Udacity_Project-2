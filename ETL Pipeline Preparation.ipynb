{
 "cells": [
  {
   "cell_type": "markdown",
   "metadata": {},
   "source": [
    "# ETL Pipeline Preparation\n",
    "Follow the instructions below to help you create your ETL pipeline.\n",
    "### 1. Import libraries and load datasets.\n",
    "- Import Python libraries\n",
    "- Load `messages.csv` into a dataframe and inspect the first few lines.\n",
    "- Load `categories.csv` into a dataframe and inspect the first few lines."
   ]
  },
  {
   "cell_type": "code",
   "execution_count": 12,
   "metadata": {},
   "outputs": [],
   "source": [
    "# import libraries\n",
    "import pandas as pd\n",
    "import sqlalchemy\n",
    "from sqlalchemy import create_engine\n",
    "import os"
   ]
  },
  {
   "cell_type": "code",
   "execution_count": 13,
   "metadata": {},
   "outputs": [
    {
     "data": {
      "text/html": [
       "<div>\n",
       "<style scoped>\n",
       "    .dataframe tbody tr th:only-of-type {\n",
       "        vertical-align: middle;\n",
       "    }\n",
       "\n",
       "    .dataframe tbody tr th {\n",
       "        vertical-align: top;\n",
       "    }\n",
       "\n",
       "    .dataframe thead th {\n",
       "        text-align: right;\n",
       "    }\n",
       "</style>\n",
       "<table border=\"1\" class=\"dataframe\">\n",
       "  <thead>\n",
       "    <tr style=\"text-align: right;\">\n",
       "      <th></th>\n",
       "      <th>id</th>\n",
       "      <th>message</th>\n",
       "      <th>original</th>\n",
       "      <th>genre</th>\n",
       "    </tr>\n",
       "  </thead>\n",
       "  <tbody>\n",
       "    <tr>\n",
       "      <th>0</th>\n",
       "      <td>2</td>\n",
       "      <td>Weather update - a cold front from Cuba that c...</td>\n",
       "      <td>Un front froid se retrouve sur Cuba ce matin. ...</td>\n",
       "      <td>direct</td>\n",
       "    </tr>\n",
       "    <tr>\n",
       "      <th>1</th>\n",
       "      <td>7</td>\n",
       "      <td>Is the Hurricane over or is it not over</td>\n",
       "      <td>Cyclone nan fini osinon li pa fini</td>\n",
       "      <td>direct</td>\n",
       "    </tr>\n",
       "    <tr>\n",
       "      <th>2</th>\n",
       "      <td>8</td>\n",
       "      <td>Looking for someone but no name</td>\n",
       "      <td>Patnm, di Maryani relem pou li banm nouvel li ...</td>\n",
       "      <td>direct</td>\n",
       "    </tr>\n",
       "    <tr>\n",
       "      <th>3</th>\n",
       "      <td>9</td>\n",
       "      <td>UN reports Leogane 80-90 destroyed. Only Hospi...</td>\n",
       "      <td>UN reports Leogane 80-90 destroyed. Only Hospi...</td>\n",
       "      <td>direct</td>\n",
       "    </tr>\n",
       "    <tr>\n",
       "      <th>4</th>\n",
       "      <td>12</td>\n",
       "      <td>says: west side of Haiti, rest of the country ...</td>\n",
       "      <td>facade ouest d Haiti et le reste du pays aujou...</td>\n",
       "      <td>direct</td>\n",
       "    </tr>\n",
       "  </tbody>\n",
       "</table>\n",
       "</div>"
      ],
      "text/plain": [
       "   id                                            message  \\\n",
       "0   2  Weather update - a cold front from Cuba that c...   \n",
       "1   7            Is the Hurricane over or is it not over   \n",
       "2   8                    Looking for someone but no name   \n",
       "3   9  UN reports Leogane 80-90 destroyed. Only Hospi...   \n",
       "4  12  says: west side of Haiti, rest of the country ...   \n",
       "\n",
       "                                            original   genre  \n",
       "0  Un front froid se retrouve sur Cuba ce matin. ...  direct  \n",
       "1                 Cyclone nan fini osinon li pa fini  direct  \n",
       "2  Patnm, di Maryani relem pou li banm nouvel li ...  direct  \n",
       "3  UN reports Leogane 80-90 destroyed. Only Hospi...  direct  \n",
       "4  facade ouest d Haiti et le reste du pays aujou...  direct  "
      ]
     },
     "execution_count": 13,
     "metadata": {},
     "output_type": "execute_result"
    }
   ],
   "source": [
    "# load messages dataset\n",
    "messages = pd.read_csv('Data/messages.csv')\n",
    "messages.head()"
   ]
  },
  {
   "cell_type": "code",
   "execution_count": 14,
   "metadata": {
    "scrolled": true
   },
   "outputs": [
    {
     "data": {
      "text/html": [
       "<div>\n",
       "<style scoped>\n",
       "    .dataframe tbody tr th:only-of-type {\n",
       "        vertical-align: middle;\n",
       "    }\n",
       "\n",
       "    .dataframe tbody tr th {\n",
       "        vertical-align: top;\n",
       "    }\n",
       "\n",
       "    .dataframe thead th {\n",
       "        text-align: right;\n",
       "    }\n",
       "</style>\n",
       "<table border=\"1\" class=\"dataframe\">\n",
       "  <thead>\n",
       "    <tr style=\"text-align: right;\">\n",
       "      <th></th>\n",
       "      <th>id</th>\n",
       "      <th>categories</th>\n",
       "    </tr>\n",
       "  </thead>\n",
       "  <tbody>\n",
       "    <tr>\n",
       "      <th>0</th>\n",
       "      <td>2</td>\n",
       "      <td>related-1;request-0;offer-0;aid_related-0;medi...</td>\n",
       "    </tr>\n",
       "    <tr>\n",
       "      <th>1</th>\n",
       "      <td>7</td>\n",
       "      <td>related-1;request-0;offer-0;aid_related-1;medi...</td>\n",
       "    </tr>\n",
       "    <tr>\n",
       "      <th>2</th>\n",
       "      <td>8</td>\n",
       "      <td>related-1;request-0;offer-0;aid_related-0;medi...</td>\n",
       "    </tr>\n",
       "    <tr>\n",
       "      <th>3</th>\n",
       "      <td>9</td>\n",
       "      <td>related-1;request-1;offer-0;aid_related-1;medi...</td>\n",
       "    </tr>\n",
       "    <tr>\n",
       "      <th>4</th>\n",
       "      <td>12</td>\n",
       "      <td>related-1;request-0;offer-0;aid_related-0;medi...</td>\n",
       "    </tr>\n",
       "  </tbody>\n",
       "</table>\n",
       "</div>"
      ],
      "text/plain": [
       "   id                                         categories\n",
       "0   2  related-1;request-0;offer-0;aid_related-0;medi...\n",
       "1   7  related-1;request-0;offer-0;aid_related-1;medi...\n",
       "2   8  related-1;request-0;offer-0;aid_related-0;medi...\n",
       "3   9  related-1;request-1;offer-0;aid_related-1;medi...\n",
       "4  12  related-1;request-0;offer-0;aid_related-0;medi..."
      ]
     },
     "execution_count": 14,
     "metadata": {},
     "output_type": "execute_result"
    }
   ],
   "source": [
    "# load categories dataset\n",
    "categories = pd.read_csv('Data/categories.csv')\n",
    "categories.head()"
   ]
  },
  {
   "cell_type": "markdown",
   "metadata": {},
   "source": [
    "### 2. Merge datasets.\n",
    "- Merge the messages and categories datasets using the common id\n",
    "- Assign this combined dataset to `df`, which will be cleaned in the following steps"
   ]
  },
  {
   "cell_type": "code",
   "execution_count": 15,
   "metadata": {},
   "outputs": [
    {
     "data": {
      "text/html": [
       "<div>\n",
       "<style scoped>\n",
       "    .dataframe tbody tr th:only-of-type {\n",
       "        vertical-align: middle;\n",
       "    }\n",
       "\n",
       "    .dataframe tbody tr th {\n",
       "        vertical-align: top;\n",
       "    }\n",
       "\n",
       "    .dataframe thead th {\n",
       "        text-align: right;\n",
       "    }\n",
       "</style>\n",
       "<table border=\"1\" class=\"dataframe\">\n",
       "  <thead>\n",
       "    <tr style=\"text-align: right;\">\n",
       "      <th></th>\n",
       "      <th>id</th>\n",
       "      <th>message</th>\n",
       "      <th>original</th>\n",
       "      <th>genre</th>\n",
       "      <th>categories</th>\n",
       "    </tr>\n",
       "  </thead>\n",
       "  <tbody>\n",
       "    <tr>\n",
       "      <th>0</th>\n",
       "      <td>2</td>\n",
       "      <td>Weather update - a cold front from Cuba that c...</td>\n",
       "      <td>Un front froid se retrouve sur Cuba ce matin. ...</td>\n",
       "      <td>direct</td>\n",
       "      <td>related-1;request-0;offer-0;aid_related-0;medi...</td>\n",
       "    </tr>\n",
       "    <tr>\n",
       "      <th>1</th>\n",
       "      <td>7</td>\n",
       "      <td>Is the Hurricane over or is it not over</td>\n",
       "      <td>Cyclone nan fini osinon li pa fini</td>\n",
       "      <td>direct</td>\n",
       "      <td>related-1;request-0;offer-0;aid_related-1;medi...</td>\n",
       "    </tr>\n",
       "    <tr>\n",
       "      <th>2</th>\n",
       "      <td>8</td>\n",
       "      <td>Looking for someone but no name</td>\n",
       "      <td>Patnm, di Maryani relem pou li banm nouvel li ...</td>\n",
       "      <td>direct</td>\n",
       "      <td>related-1;request-0;offer-0;aid_related-0;medi...</td>\n",
       "    </tr>\n",
       "    <tr>\n",
       "      <th>3</th>\n",
       "      <td>9</td>\n",
       "      <td>UN reports Leogane 80-90 destroyed. Only Hospi...</td>\n",
       "      <td>UN reports Leogane 80-90 destroyed. Only Hospi...</td>\n",
       "      <td>direct</td>\n",
       "      <td>related-1;request-1;offer-0;aid_related-1;medi...</td>\n",
       "    </tr>\n",
       "    <tr>\n",
       "      <th>4</th>\n",
       "      <td>12</td>\n",
       "      <td>says: west side of Haiti, rest of the country ...</td>\n",
       "      <td>facade ouest d Haiti et le reste du pays aujou...</td>\n",
       "      <td>direct</td>\n",
       "      <td>related-1;request-0;offer-0;aid_related-0;medi...</td>\n",
       "    </tr>\n",
       "  </tbody>\n",
       "</table>\n",
       "</div>"
      ],
      "text/plain": [
       "   id                                            message  \\\n",
       "0   2  Weather update - a cold front from Cuba that c...   \n",
       "1   7            Is the Hurricane over or is it not over   \n",
       "2   8                    Looking for someone but no name   \n",
       "3   9  UN reports Leogane 80-90 destroyed. Only Hospi...   \n",
       "4  12  says: west side of Haiti, rest of the country ...   \n",
       "\n",
       "                                            original   genre  \\\n",
       "0  Un front froid se retrouve sur Cuba ce matin. ...  direct   \n",
       "1                 Cyclone nan fini osinon li pa fini  direct   \n",
       "2  Patnm, di Maryani relem pou li banm nouvel li ...  direct   \n",
       "3  UN reports Leogane 80-90 destroyed. Only Hospi...  direct   \n",
       "4  facade ouest d Haiti et le reste du pays aujou...  direct   \n",
       "\n",
       "                                          categories  \n",
       "0  related-1;request-0;offer-0;aid_related-0;medi...  \n",
       "1  related-1;request-0;offer-0;aid_related-1;medi...  \n",
       "2  related-1;request-0;offer-0;aid_related-0;medi...  \n",
       "3  related-1;request-1;offer-0;aid_related-1;medi...  \n",
       "4  related-1;request-0;offer-0;aid_related-0;medi...  "
      ]
     },
     "execution_count": 15,
     "metadata": {},
     "output_type": "execute_result"
    }
   ],
   "source": [
    "# Merge datasets on 'id'\n",
    "df = messages.merge(categories, on='id')\n",
    "\n",
    "df.head(5)"
   ]
  },
  {
   "cell_type": "markdown",
   "metadata": {},
   "source": [
    "### 3. Split `categories` into separate category columns.\n",
    "- Split the values in the `categories` column on the `;` character so that each value becomes a separate column. You'll find [this method](https://pandas.pydata.org/pandas-docs/version/0.23/generated/pandas.Series.str.split.html) very helpful! Make sure to set `expand=True`.\n",
    "- Use the first row of categories dataframe to create column names for the categories data.\n",
    "- Rename columns of `categories` with new column names."
   ]
  },
  {
   "cell_type": "code",
   "execution_count": 16,
   "metadata": {},
   "outputs": [
    {
     "name": "stdout",
     "output_type": "stream",
     "text": [
      "Categories split into separate columns:\n",
      "0    related    request    offer    aid_related    medical_help  \\\n",
      "0  related-1  request-0  offer-0  aid_related-0  medical_help-0   \n",
      "1  related-1  request-0  offer-0  aid_related-1  medical_help-0   \n",
      "2  related-1  request-0  offer-0  aid_related-0  medical_help-0   \n",
      "3  related-1  request-1  offer-0  aid_related-1  medical_help-0   \n",
      "4  related-1  request-0  offer-0  aid_related-0  medical_help-0   \n",
      "\n",
      "0    medical_products    search_and_rescue    security    military  \\\n",
      "0  medical_products-0  search_and_rescue-0  security-0  military-0   \n",
      "1  medical_products-0  search_and_rescue-0  security-0  military-0   \n",
      "2  medical_products-0  search_and_rescue-0  security-0  military-0   \n",
      "3  medical_products-1  search_and_rescue-0  security-0  military-0   \n",
      "4  medical_products-0  search_and_rescue-0  security-0  military-0   \n",
      "\n",
      "0    child_alone       ...           aid_centers    other_infrastructure  \\\n",
      "0  child_alone-0       ...         aid_centers-0  other_infrastructure-0   \n",
      "1  child_alone-0       ...         aid_centers-0  other_infrastructure-0   \n",
      "2  child_alone-0       ...         aid_centers-0  other_infrastructure-0   \n",
      "3  child_alone-0       ...         aid_centers-0  other_infrastructure-0   \n",
      "4  child_alone-0       ...         aid_centers-0  other_infrastructure-0   \n",
      "\n",
      "0    weather_related    floods    storm    fire    earthquake    cold  \\\n",
      "0  weather_related-0  floods-0  storm-0  fire-0  earthquake-0  cold-0   \n",
      "1  weather_related-1  floods-0  storm-1  fire-0  earthquake-0  cold-0   \n",
      "2  weather_related-0  floods-0  storm-0  fire-0  earthquake-0  cold-0   \n",
      "3  weather_related-0  floods-0  storm-0  fire-0  earthquake-0  cold-0   \n",
      "4  weather_related-0  floods-0  storm-0  fire-0  earthquake-0  cold-0   \n",
      "\n",
      "0    other_weather    direct_report  \n",
      "0  other_weather-0  direct_report-0  \n",
      "1  other_weather-0  direct_report-0  \n",
      "2  other_weather-0  direct_report-0  \n",
      "3  other_weather-0  direct_report-0  \n",
      "4  other_weather-0  direct_report-0  \n",
      "\n",
      "[5 rows x 36 columns]\n"
     ]
    }
   ],
   "source": [
    "# Split the values in the `categories` column on the `;` character\n",
    "categories_split = df['categories'].str.split(';', expand=True)\n",
    "\n",
    "# Use the first row of categories_split dataframe to create column names for the categories data\n",
    "row = categories_split.iloc[0]\n",
    "\n",
    "# Extract a list of new column names for categories\n",
    "category_colnames = row.apply(lambda x: x[:-2])\n",
    "\n",
    "# Rename columns of `categories_split` with new column names\n",
    "categories_split.columns = category_colnames\n",
    "\n",
    "# Display the first few rows of the `categories_split` DataFrame to verify the split\n",
    "print(\"Categories split into separate columns:\")\n",
    "print(categories_split.head())\n"
   ]
  },
  {
   "cell_type": "markdown",
   "metadata": {},
   "source": [
    "### 4. Convert category values to just numbers 0 or 1.\n",
    "- Iterate through the category columns in df to keep only the last character of each string (the 1 or 0). For example, `related-0` becomes `0`, `related-1` becomes `1`. Convert the string to a numeric value.\n",
    "- You can perform [normal string actions on Pandas Series](https://pandas.pydata.org/pandas-docs/stable/text.html#indexing-with-str), like indexing, by including `.str` after the Series. You may need to first convert the Series to be of type string, which you can do with `astype(str)`."
   ]
  },
  {
   "cell_type": "code",
   "execution_count": 17,
   "metadata": {},
   "outputs": [
    {
     "name": "stdout",
     "output_type": "stream",
     "text": [
      "Categories converted to binary values:\n",
      "0  related  request  offer  aid_related  medical_help  medical_products  \\\n",
      "0        1        0      0            0             0                 0   \n",
      "1        1        0      0            1             0                 0   \n",
      "2        1        0      0            0             0                 0   \n",
      "3        1        1      0            1             0                 1   \n",
      "4        1        0      0            0             0                 0   \n",
      "\n",
      "0  search_and_rescue  security  military  child_alone      ...        \\\n",
      "0                  0         0         0            0      ...         \n",
      "1                  0         0         0            0      ...         \n",
      "2                  0         0         0            0      ...         \n",
      "3                  0         0         0            0      ...         \n",
      "4                  0         0         0            0      ...         \n",
      "\n",
      "0  aid_centers  other_infrastructure  weather_related  floods  storm  fire  \\\n",
      "0            0                     0                0       0      0     0   \n",
      "1            0                     0                1       0      1     0   \n",
      "2            0                     0                0       0      0     0   \n",
      "3            0                     0                0       0      0     0   \n",
      "4            0                     0                0       0      0     0   \n",
      "\n",
      "0  earthquake  cold  other_weather  direct_report  \n",
      "0           0     0              0              0  \n",
      "1           0     0              0              0  \n",
      "2           0     0              0              0  \n",
      "3           0     0              0              0  \n",
      "4           0     0              0              0  \n",
      "\n",
      "[5 rows x 36 columns]\n"
     ]
    }
   ],
   "source": [
    "# Convert category values to just numbers 0 or 1\n",
    "for column in categories_split:\n",
    "    # Set each value to be the last character of the string\n",
    "    categories_split[column] = categories_split[column].str[-1]\n",
    "    # Convert column from string to numeric\n",
    "    categories_split[column] = categories_split[column].astype(int)\n",
    "\n",
    "# Display the first few rows of the `categories_split` DataFrame to verify the conversion\n",
    "print(\"Categories converted to binary values:\")\n",
    "print(categories_split.head())\n"
   ]
  },
  {
   "cell_type": "markdown",
   "metadata": {},
   "source": [
    "### 5. Replace `categories` column in `df` with new category columns.\n",
    "- Drop the categories column from the df dataframe since it is no longer needed.\n",
    "- Concatenate df and categories data frames."
   ]
  },
  {
   "cell_type": "code",
   "execution_count": 18,
   "metadata": {},
   "outputs": [
    {
     "name": "stdout",
     "output_type": "stream",
     "text": [
      "Dataframe after replacing 'categories' column with new category columns:\n",
      "   id                                            message  \\\n",
      "0   2  Weather update - a cold front from Cuba that c...   \n",
      "1   7            Is the Hurricane over or is it not over   \n",
      "2   8                    Looking for someone but no name   \n",
      "3   9  UN reports Leogane 80-90 destroyed. Only Hospi...   \n",
      "4  12  says: west side of Haiti, rest of the country ...   \n",
      "\n",
      "                                            original   genre  related  \\\n",
      "0  Un front froid se retrouve sur Cuba ce matin. ...  direct        1   \n",
      "1                 Cyclone nan fini osinon li pa fini  direct        1   \n",
      "2  Patnm, di Maryani relem pou li banm nouvel li ...  direct        1   \n",
      "3  UN reports Leogane 80-90 destroyed. Only Hospi...  direct        1   \n",
      "4  facade ouest d Haiti et le reste du pays aujou...  direct        1   \n",
      "\n",
      "   request  offer  aid_related  medical_help  medical_products      ...        \\\n",
      "0        0      0            0             0                 0      ...         \n",
      "1        0      0            1             0                 0      ...         \n",
      "2        0      0            0             0                 0      ...         \n",
      "3        1      0            1             0                 1      ...         \n",
      "4        0      0            0             0                 0      ...         \n",
      "\n",
      "   aid_centers  other_infrastructure  weather_related  floods  storm  fire  \\\n",
      "0            0                     0                0       0      0     0   \n",
      "1            0                     0                1       0      1     0   \n",
      "2            0                     0                0       0      0     0   \n",
      "3            0                     0                0       0      0     0   \n",
      "4            0                     0                0       0      0     0   \n",
      "\n",
      "   earthquake  cold  other_weather  direct_report  \n",
      "0           0     0              0              0  \n",
      "1           0     0              0              0  \n",
      "2           0     0              0              0  \n",
      "3           0     0              0              0  \n",
      "4           0     0              0              0  \n",
      "\n",
      "[5 rows x 40 columns]\n"
     ]
    }
   ],
   "source": [
    "# Assuming df and categories_split DataFrames are already defined from previous steps\n",
    "\n",
    "# Drop the original 'categories' column from df\n",
    "df = df.drop('categories', axis=1)\n",
    "\n",
    "# Concatenate df with the new categories DataFrame\n",
    "df = pd.concat([df, categories_split], axis=1)\n",
    "\n",
    "# Display the first few rows of the updated df to verify the concatenation\n",
    "print(\"Dataframe after replacing 'categories' column with new category columns:\")\n",
    "print(df.head())\n"
   ]
  },
  {
   "cell_type": "markdown",
   "metadata": {},
   "source": [
    "### 6. Remove duplicates.\n",
    "- Check how many duplicates are in this dataset.\n",
    "- Drop the duplicates.\n",
    "- Confirm duplicates were removed."
   ]
  },
  {
   "cell_type": "code",
   "execution_count": 19,
   "metadata": {},
   "outputs": [
    {
     "name": "stdout",
     "output_type": "stream",
     "text": [
      "Number of duplicates in the dataset: 170\n"
     ]
    }
   ],
   "source": [
    "# Check how many duplicates are in the dataset\n",
    "num_duplicates = df.duplicated().sum()\n",
    "print(f\"Number of duplicates in the dataset: {num_duplicates}\")\n"
   ]
  },
  {
   "cell_type": "code",
   "execution_count": 20,
   "metadata": {},
   "outputs": [],
   "source": [
    "# Drop duplicates\n",
    "df = df.drop_duplicates()"
   ]
  },
  {
   "cell_type": "code",
   "execution_count": 21,
   "metadata": {},
   "outputs": [
    {
     "name": "stdout",
     "output_type": "stream",
     "text": [
      "Number of duplicates after removing them: 0\n"
     ]
    }
   ],
   "source": [
    "# Confirm duplicates were removed by checking again\n",
    "num_duplicates_after = df.duplicated().sum()\n",
    "print(f\"Number of duplicates after removing them: {num_duplicates_after}\")"
   ]
  },
  {
   "cell_type": "markdown",
   "metadata": {},
   "source": [
    "### 7. Save the clean dataset into an sqlite database.\n",
    "You can do this with pandas [`to_sql` method](https://pandas.pydata.org/pandas-docs/stable/generated/pandas.DataFrame.to_sql.html) combined with the SQLAlchemy library. Remember to import SQLAlchemy's `create_engine` in the first cell of this notebook to use it below."
   ]
  },
  {
   "cell_type": "code",
   "execution_count": 23,
   "metadata": {},
   "outputs": [],
   "source": [
    "def save_to_database(df, folder_path=\"Data\", db_filename=\"DisasterResponse.db\"):\n",
    "    \"\"\"\n",
    "    Saves a DataFrame to an SQLite database.\n",
    "\n",
    "    This function checks if the specified directory exists, creates it if not,\n",
    "    and then saves the DataFrame to a specified SQLite database file within that directory.\n",
    "\n",
    "    Args:\n",
    "        df (pd.DataFrame): DataFrame to be saved.\n",
    "        folder_path (str): Directory where the database file will be saved.\n",
    "        db_filename (str): Name of the database file.\n",
    "\n",
    "    Returns:\n",
    "        None\n",
    "    \"\"\"\n",
    "    # Ensure the target directory exists\n",
    "    if not os.path.exists(folder_path):\n",
    "        os.makedirs(folder_path)\n",
    "\n",
    "    # Define the full path to the database file\n",
    "    db_path = os.path.join(folder_path, db_filename)\n",
    "\n",
    "    # Create a SQLAlchemy engine for the SQLite database connection\n",
    "    engine = create_engine(f'sqlite:///{db_path}')\n",
    "\n",
    "    # Save the DataFrame to the specified SQLite database\n",
    "    df.to_sql('DisasterResponse', engine, index=False, if_exists='replace')"
   ]
  },
  {
   "cell_type": "markdown",
   "metadata": {},
   "source": [
    "### 8. Use this notebook to complete `process_data.py`\n",
    "Use the template file attached in the Resources folder to write a script that runs the steps above to create a database based on new datasets specified by the user. Alternatively, you can complete `process_data.py` in the classroom on the `Project Workspace IDE` coming later."
   ]
  },
  {
   "cell_type": "code",
   "execution_count": null,
   "metadata": {},
   "outputs": [],
   "source": []
  }
 ],
 "metadata": {
  "kernelspec": {
   "display_name": "Python 3",
   "language": "python",
   "name": "python3"
  },
  "language_info": {
   "codemirror_mode": {
    "name": "ipython",
    "version": 3
   },
   "file_extension": ".py",
   "mimetype": "text/x-python",
   "name": "python",
   "nbconvert_exporter": "python",
   "pygments_lexer": "ipython3",
   "version": "3.6.3"
  }
 },
 "nbformat": 4,
 "nbformat_minor": 2
}
